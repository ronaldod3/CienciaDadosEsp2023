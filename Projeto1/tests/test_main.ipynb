{
 "cells": [
  {
   "cell_type": "markdown",
   "id": "180fd015-bc6e-40d3-b688-4594250b0a7a",
   "metadata": {},
   "source": [
    "# Módulo principal"
   ]
  },
  {
   "cell_type": "code",
   "execution_count": 1,
   "id": "51d1d132-a3e3-4248-948d-a62dfd99e2d0",
   "metadata": {
    "tags": []
   },
   "outputs": [],
   "source": [
    "# Importação dos módulos\n",
    "\n",
    "import test_es\n",
    "import test_proc\n"
   ]
  },
  {
   "cell_type": "code",
   "execution_count": 4,
   "id": "a97ee6c0-f542-4fc6-b453-d510b521d9ce",
   "metadata": {
    "tags": []
   },
   "outputs": [
    {
     "name": "stdin",
     "output_type": "stream",
     "text": [
      "Digite o número 1 que deseja operar: 2\n",
      "Digite o número 2 que deseja operar: 1\n",
      "Digite a operação que deseja realizar. \n",
      "Pressione + para adição; \n",
      "- para subtração; \n",
      "* para multiplicação; \n",
      "/ para divisão *\n"
     ]
    }
   ],
   "source": [
    "dados = test_es.leitora()"
   ]
  },
  {
   "cell_type": "code",
   "execution_count": 9,
   "id": "8fa96edb-db09-45c6-bc60-7a2fd22a99b9",
   "metadata": {
    "tags": []
   },
   "outputs": [
    {
     "data": {
      "text/plain": [
       "[[2.0, 1.0], '*']"
      ]
     },
     "execution_count": 9,
     "metadata": {},
     "output_type": "execute_result"
    }
   ],
   "source": [
    "dados"
   ]
  },
  {
   "cell_type": "code",
   "execution_count": 10,
   "id": "94bf51c5-080a-4035-a794-f50d4e18d077",
   "metadata": {
    "tags": []
   },
   "outputs": [
    {
     "name": "stdout",
     "output_type": "stream",
     "text": [
      "2.0\n"
     ]
    }
   ],
   "source": [
    "if dados[1] == \"*\":\n",
    "    resultado = test_proc.mult(dados[0][0], dados[0][1])\n",
    "    print(resultado)"
   ]
  },
  {
   "cell_type": "code",
   "execution_count": 15,
   "id": "8944326c-d930-4fcb-b5ba-39b21afb5f20",
   "metadata": {
    "tags": []
   },
   "outputs": [],
   "source": [
    "if dados[1] == \"*\":\n",
    "    resultado = test_proc.mult(dados[0][0], dados[0][1])\n",
    "elif dados[1] == \"-\":\n",
    "    resultado = test_proc.diminuidora(dados[0][0], dados[0][1])\n",
    "elif dados[1] == \"/\":\n",
    "    resultado = test_proc.div(dados[0][0], dados[0][1])\n",
    "else:\n",
    "    resultado = test_proc.somadora(dados[0][0], dados[0][1])"
   ]
  },
  {
   "cell_type": "code",
   "execution_count": 18,
   "id": "c339647d-9d85-4a54-a2be-7fa8ec3f03ab",
   "metadata": {
    "tags": []
   },
   "outputs": [],
   "source": [
    "def escolhedora(dados: list) -> float:\n",
    "    '''Esta funcao a escolhe a operação adequada de acordo com o usuário.'''\n",
    "    if dados[1] == \"*\":\n",
    "        resultado = test_proc.mult(dados[0][0], dados[0][1])\n",
    "    elif dados[1] == \"-\":\n",
    "        resultado = test_proc.diminuidora(dados[0][0], dados[0][1])\n",
    "    elif dados[1] == \"/\":\n",
    "        resultado = test_proc.div(dados[0][0], dados[0][1])\n",
    "    else:\n",
    "        resultado = test_proc.somadora(dados[0][0], dados[0][1])\n",
    "    return resultado"
   ]
  },
  {
   "cell_type": "code",
   "execution_count": null,
   "id": "6c3c94b5-66ad-4d9f-bc5a-5db148f7e59e",
   "metadata": {},
   "outputs": [],
   "source": []
  }
 ],
 "metadata": {
  "kernelspec": {
   "display_name": "Python 3 (ipykernel)",
   "language": "python",
   "name": "python3"
  },
  "language_info": {
   "codemirror_mode": {
    "name": "ipython",
    "version": 3
   },
   "file_extension": ".py",
   "mimetype": "text/x-python",
   "name": "python",
   "nbconvert_exporter": "python",
   "pygments_lexer": "ipython3",
   "version": "3.11.5"
  }
 },
 "nbformat": 4,
 "nbformat_minor": 5
}
