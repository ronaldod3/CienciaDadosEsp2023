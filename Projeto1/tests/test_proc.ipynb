{
 "cells": [
  {
   "cell_type": "markdown",
   "id": "14609749-55dd-4e49-9e43-ea651a7c5ef3",
   "metadata": {},
   "source": [
    "# Módulo de processamento"
   ]
  },
  {
   "cell_type": "markdown",
   "id": "3e3bc6c8-4b47-4f27-9e59-b856c63bb6df",
   "metadata": {},
   "source": [
    "## Requisito 1: Desenvolvimento da função de soma"
   ]
  },
  {
   "cell_type": "code",
   "execution_count": 4,
   "id": "8dc36270-c942-4191-8a53-c00e2caa9a35",
   "metadata": {
    "tags": []
   },
   "outputs": [
    {
     "data": {
      "text/plain": [
       "5"
      ]
     },
     "execution_count": 4,
     "metadata": {},
     "output_type": "execute_result"
    }
   ],
   "source": [
    "2 + 3 "
   ]
  },
  {
   "cell_type": "code",
   "execution_count": 5,
   "id": "da632fc0-cff1-4f85-b9f9-af53a8fa2088",
   "metadata": {
    "tags": []
   },
   "outputs": [
    {
     "data": {
      "text/plain": [
       "9"
      ]
     },
     "execution_count": 5,
     "metadata": {},
     "output_type": "execute_result"
    }
   ],
   "source": [
    "x = 4\n",
    "y = 5\n",
    "x + y"
   ]
  },
  {
   "cell_type": "code",
   "execution_count": 7,
   "id": "ce0cc237-ca58-4530-b116-de691257b7ab",
   "metadata": {
    "tags": []
   },
   "outputs": [
    {
     "data": {
      "text/plain": [
       "6"
      ]
     },
     "execution_count": 7,
     "metadata": {},
     "output_type": "execute_result"
    }
   ],
   "source": [
    "def soma(x, y):\n",
    "    return x + y\n",
    "\n",
    "soma(1,5)"
   ]
  },
  {
   "cell_type": "code",
   "execution_count": 9,
   "id": "0a8ac20f-0197-4df8-a73c-4523d90b6afb",
   "metadata": {
    "tags": []
   },
   "outputs": [
    {
     "name": "stdout",
     "output_type": "stream",
     "text": [
      "9\n"
     ]
    }
   ],
   "source": [
    "z = x + y\n",
    "print(z)"
   ]
  },
  {
   "cell_type": "code",
   "execution_count": 11,
   "id": "107fa411-ff8d-41e9-a996-fa8b2ddb9ed6",
   "metadata": {
    "tags": []
   },
   "outputs": [
    {
     "data": {
      "text/plain": [
       "13"
      ]
     },
     "execution_count": 11,
     "metadata": {},
     "output_type": "execute_result"
    }
   ],
   "source": [
    "def somadora(x, y):\n",
    "    return x + y\n",
    "\n",
    "somadora(5, 8)"
   ]
  },
  {
   "cell_type": "code",
   "execution_count": 12,
   "id": "81d09ae2-f69d-431c-be10-d51697aa68ff",
   "metadata": {
    "tags": []
   },
   "outputs": [
    {
     "data": {
      "text/plain": [
       "13"
      ]
     },
     "execution_count": 12,
     "metadata": {},
     "output_type": "execute_result"
    }
   ],
   "source": [
    "def somadora(numero1: float, numero2: float) -> float:\n",
    "    \"\"\"Esta função pega dois números reais e retorna a soma deles\"\"\"\n",
    "    return numero1 + numero2\n",
    "\n",
    "somadora(5, 8)"
   ]
  },
  {
   "cell_type": "markdown",
   "id": "595a901f-54f2-42c4-850a-cfebec9f4aaf",
   "metadata": {},
   "source": [
    "## Requisito 2: Desenvolvimento da função de subtração"
   ]
  },
  {
   "cell_type": "code",
   "execution_count": 16,
   "id": "e6c5ea63-d58c-4c9f-af50-8e3f9ab586f5",
   "metadata": {
    "tags": []
   },
   "outputs": [
    {
     "name": "stdout",
     "output_type": "stream",
     "text": [
      "-4\n"
     ]
    }
   ],
   "source": [
    "z = x - y\n",
    "x = 2\n",
    "y = 6\n",
    "print(z)"
   ]
  },
  {
   "cell_type": "code",
   "execution_count": 17,
   "id": "bcf1639e-c34c-43e4-abcd-e4c496cebb4e",
   "metadata": {
    "tags": []
   },
   "outputs": [
    {
     "data": {
      "text/plain": [
       "5"
      ]
     },
     "execution_count": 17,
     "metadata": {},
     "output_type": "execute_result"
    }
   ],
   "source": [
    "10 - 5"
   ]
  },
  {
   "cell_type": "code",
   "execution_count": 19,
   "id": "fe850ca8-9cd7-4e77-a352-0c0d7efc9fd2",
   "metadata": {
    "tags": []
   },
   "outputs": [
    {
     "data": {
      "text/plain": [
       "5"
      ]
     },
     "execution_count": 19,
     "metadata": {},
     "output_type": "execute_result"
    }
   ],
   "source": [
    "def diminuidora(x, y):\n",
    "    return x - y\n",
    "\n",
    "diminuidora(10,5)"
   ]
  },
  {
   "cell_type": "code",
   "execution_count": 22,
   "id": "3a0030f2-bc3f-4a47-8b87-9e2a683a10ff",
   "metadata": {
    "tags": []
   },
   "outputs": [
    {
     "data": {
      "text/plain": [
       "5"
      ]
     },
     "execution_count": 22,
     "metadata": {},
     "output_type": "execute_result"
    }
   ],
   "source": [
    "def diminuidora(numero1: float, numero2: float) -> float:\n",
    "    \"\"\"Esta função pega dois números reais e retorna a subtração deles\"\"\"\n",
    "    return numero1 - numero2\n",
    "\n",
    "diminuidora(10, 5)"
   ]
  },
  {
   "cell_type": "markdown",
   "id": "65d04c60-9e53-4916-a9e9-e48a17522f7b",
   "metadata": {},
   "source": [
    "## Requisito 3: Desenvolvimento da função de multiplicação\n"
   ]
  },
  {
   "cell_type": "markdown",
   "id": "165d0228-fc12-4984-976d-257cf2d137ba",
   "metadata": {
    "tags": []
   },
   "source": [
    "10 * 5"
   ]
  },
  {
   "cell_type": "code",
   "execution_count": 24,
   "id": "a3daa908-da17-4ab9-b8f3-0cedff3021f8",
   "metadata": {
    "tags": []
   },
   "outputs": [
    {
     "name": "stdout",
     "output_type": "stream",
     "text": [
      "12\n"
     ]
    }
   ],
   "source": [
    "z = x * y\n",
    "x = 2\n",
    "y = 6\n",
    "print(z)"
   ]
  },
  {
   "cell_type": "code",
   "execution_count": 26,
   "id": "04944857-7511-45f7-a5e7-bdd6bcdb5138",
   "metadata": {
    "tags": []
   },
   "outputs": [
    {
     "data": {
      "text/plain": [
       "50"
      ]
     },
     "execution_count": 26,
     "metadata": {},
     "output_type": "execute_result"
    }
   ],
   "source": [
    "def multiplicadora(x, y):\n",
    "    return x * y\n",
    "\n",
    "multiplicadora(10,5)"
   ]
  },
  {
   "cell_type": "code",
   "execution_count": 27,
   "id": "6ebee180-4ba5-4ef2-bd70-bfcbf8c00621",
   "metadata": {
    "tags": []
   },
   "outputs": [
    {
     "data": {
      "text/plain": [
       "50"
      ]
     },
     "execution_count": 27,
     "metadata": {},
     "output_type": "execute_result"
    }
   ],
   "source": [
    "def mult(numero1: float, numero2: float) -> float:\n",
    "    \"\"\"Esta função pega dois números reais e retorna a multiplicação deles\"\"\"\n",
    "    return numero1 * numero2\n",
    "\n",
    "mult(10, 5)"
   ]
  },
  {
   "cell_type": "markdown",
   "id": "032d9ac6-4efa-48aa-807a-21b526d1df9a",
   "metadata": {},
   "source": [
    "## Requisito 4: Desenvolvimento da função de divisão"
   ]
  },
  {
   "cell_type": "code",
   "execution_count": 28,
   "id": "a0511e50-214c-4f27-a562-b828694b11db",
   "metadata": {
    "tags": []
   },
   "outputs": [
    {
     "data": {
      "text/plain": [
       "2.0"
      ]
     },
     "execution_count": 28,
     "metadata": {},
     "output_type": "execute_result"
    }
   ],
   "source": [
    "10 / 5"
   ]
  },
  {
   "cell_type": "code",
   "execution_count": 29,
   "id": "7eae8736-d834-43ab-9036-49dd6252d3d3",
   "metadata": {
    "tags": []
   },
   "outputs": [
    {
     "name": "stdout",
     "output_type": "stream",
     "text": [
      "0.3333333333333333\n"
     ]
    }
   ],
   "source": [
    "z = x / y\n",
    "x = 2\n",
    "y = 6\n",
    "print(z)"
   ]
  },
  {
   "cell_type": "code",
   "execution_count": 30,
   "id": "0be41095-bca5-459c-be94-2c460e3c53b8",
   "metadata": {
    "tags": []
   },
   "outputs": [
    {
     "data": {
      "text/plain": [
       "2.0"
      ]
     },
     "execution_count": 30,
     "metadata": {},
     "output_type": "execute_result"
    }
   ],
   "source": [
    "def divisora(x, y):\n",
    "    return x / y\n",
    "\n",
    "divisora(10,5)"
   ]
  },
  {
   "cell_type": "code",
   "execution_count": 32,
   "id": "6094128b-3aa0-421e-86ad-d641e5cc0c1f",
   "metadata": {
    "tags": []
   },
   "outputs": [
    {
     "data": {
      "text/plain": [
       "2.0"
      ]
     },
     "execution_count": 32,
     "metadata": {},
     "output_type": "execute_result"
    }
   ],
   "source": [
    "def div(numero1: float, numero2: float) -> float:\n",
    "    \"\"\"Esta função pega dois números reais e retorna a divisão deles\"\"\"\n",
    "    return numero1 / numero2\n",
    "\n",
    "div(10, 5)"
   ]
  },
  {
   "cell_type": "code",
   "execution_count": null,
   "id": "564d724f-3627-4a9b-b7b3-f3445ebc3426",
   "metadata": {},
   "outputs": [],
   "source": []
  }
 ],
 "metadata": {
  "kernelspec": {
   "display_name": "Python 3 (ipykernel)",
   "language": "python",
   "name": "python3"
  },
  "language_info": {
   "codemirror_mode": {
    "name": "ipython",
    "version": 3
   },
   "file_extension": ".py",
   "mimetype": "text/x-python",
   "name": "python",
   "nbconvert_exporter": "python",
   "pygments_lexer": "ipython3",
   "version": "3.11.5"
  }
 },
 "nbformat": 4,
 "nbformat_minor": 5
}
