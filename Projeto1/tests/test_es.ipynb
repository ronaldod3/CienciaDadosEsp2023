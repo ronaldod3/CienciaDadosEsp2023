{
 "cells": [
  {
   "cell_type": "markdown",
   "id": "cc393c0e-e2b6-4bc9-8c00-68c0b88f79ce",
   "metadata": {},
   "source": [
    "# Módulo de entrada e saída\n",
    "\n",
    "Este módulo oferece funções de entrada e saída de dados."
   ]
  },
  {
   "cell_type": "code",
   "execution_count": 2,
   "id": "b46216bc-f40b-4332-8124-15e22e5e51e0",
   "metadata": {
    "tags": []
   },
   "outputs": [
    {
     "name": "stdin",
     "output_type": "stream",
     "text": [
      "Digite o primeiro número que deseja operar 5\n"
     ]
    }
   ],
   "source": [
    "# Entrada de dados\n",
    "\n",
    "numero1 = input('Digite o primeiro número que deseja operar')"
   ]
  },
  {
   "cell_type": "code",
   "execution_count": 3,
   "id": "0896f592-3fb0-4d27-800e-58e935d054c5",
   "metadata": {
    "tags": []
   },
   "outputs": [
    {
     "data": {
      "text/plain": [
       "'5'"
      ]
     },
     "execution_count": 3,
     "metadata": {},
     "output_type": "execute_result"
    }
   ],
   "source": [
    "numero1"
   ]
  },
  {
   "cell_type": "code",
   "execution_count": 5,
   "id": "809ad65a-8d4f-487a-a326-ef3f556ae2f9",
   "metadata": {
    "tags": []
   },
   "outputs": [
    {
     "name": "stdin",
     "output_type": "stream",
     "text": [
      "Digite o primeiro número que deseja operar 5\n"
     ]
    }
   ],
   "source": [
    "# Transformei a entrada de dados em um numero do tipo float\n",
    "\n",
    "numero1 = float(input('Digite o primeiro número que deseja operar'))\n"
   ]
  },
  {
   "cell_type": "code",
   "execution_count": 6,
   "id": "6b9d974d-18c6-45e8-9602-6eb5cecdfdf6",
   "metadata": {
    "tags": []
   },
   "outputs": [
    {
     "data": {
      "text/plain": [
       "5.0"
      ]
     },
     "execution_count": 6,
     "metadata": {},
     "output_type": "execute_result"
    }
   ],
   "source": [
    "numero1"
   ]
  },
  {
   "cell_type": "code",
   "execution_count": 8,
   "id": "92175d4e-e667-4a36-839e-ee0d47679a55",
   "metadata": {
    "tags": []
   },
   "outputs": [
    {
     "name": "stdin",
     "output_type": "stream",
     "text": [
      "Digite o número que deseja operar 10\n",
      "Digite o número que deseja operar 7\n"
     ]
    },
    {
     "data": {
      "text/plain": [
       "[10.0, 7.0]"
      ]
     },
     "execution_count": 8,
     "metadata": {},
     "output_type": "execute_result"
    }
   ],
   "source": [
    "#Funcao que le dois numeros\n",
    "def reader():\n",
    "    i = 0\n",
    "    numeros = []\n",
    "    while i < 2:\n",
    "        numeros.append(float(input('Digite o número que deseja operar:')))\n",
    "        i += 1\n",
    "    return numeros\n",
    "\n",
    "reader()"
   ]
  },
  {
   "cell_type": "code",
   "execution_count": 17,
   "id": "4b91d76a-abf3-424d-aa12-36f4c8c6864b",
   "metadata": {
    "tags": []
   },
   "outputs": [
    {
     "name": "stdin",
     "output_type": "stream",
     "text": [
      "Digite o número 1 que deseja operar: 45\n",
      "Digite o número 2 que deseja operar: 3\n"
     ]
    },
    {
     "data": {
      "text/plain": [
       "[45.0, 3.0]"
      ]
     },
     "execution_count": 17,
     "metadata": {},
     "output_type": "execute_result"
    }
   ],
   "source": [
    "# Funcao que le dois numeros sem repetir a frase\n",
    "def leitora_numeros():\n",
    "    i = 0\n",
    "    numeros = []\n",
    "    while i < 2:\n",
    "        numeros.append(float(input(f'Digite o número {i+1} que deseja operar:')))\n",
    "        i += 1\n",
    "    return numeros\n",
    "\n",
    "reader()"
   ]
  },
  {
   "cell_type": "code",
   "execution_count": 14,
   "id": "6f0a98e3-f1ad-4f5a-97cf-cc8b4182eb91",
   "metadata": {
    "tags": []
   },
   "outputs": [
    {
     "name": "stdin",
     "output_type": "stream",
     "text": [
      "Digite a operação que deseja realizar. \n",
      "Pressione + para adição; \n",
      "- para subtração; \n",
      "* para multiplicação; \n",
      "/ para divisão -\n"
     ]
    }
   ],
   "source": [
    "# Funcao que le a operação que deve ser executada\n",
    "\n",
    "operacao = input(\"\"\"Digite a operação que deseja realizar. \n",
    "Pressione + para adição; \n",
    "- para subtração; \n",
    "* para multiplicação; \n",
    "/ para divisão\"\"\")"
   ]
  },
  {
   "cell_type": "code",
   "execution_count": 32,
   "id": "a1929eb3-e23c-4425-b23f-2fee79889bb0",
   "metadata": {
    "tags": []
   },
   "outputs": [],
   "source": [
    "def leitora_operacao():\n",
    "    operacao = input(\"\"\"Digite a operação que deseja realizar. \n",
    "Pressione + para adição; \n",
    "- para subtração; \n",
    "* para multiplicação; \n",
    "/ para divisão\"\"\")\n",
    "    return operacao"
   ]
  },
  {
   "cell_type": "code",
   "execution_count": 23,
   "id": "2dbd4b99-5bb7-4d3d-b6c6-da17757aa6a7",
   "metadata": {
    "tags": []
   },
   "outputs": [
    {
     "name": "stdin",
     "output_type": "stream",
     "text": [
      "Digite o número 1 que deseja operar: 21\n",
      "Digite o número 2 que deseja operar: 21\n",
      "Digite a operação que deseja realizar. \n",
      "Pressione + para adição; \n",
      "- para subtração; \n",
      "* para multiplicação; \n",
      "/ para divisão +\n"
     ]
    },
    {
     "data": {
      "text/plain": [
       "[[21.0, 21.0], '+']"
      ]
     },
     "execution_count": 23,
     "metadata": {},
     "output_type": "execute_result"
    }
   ],
   "source": [
    "def leitora() -> list:\n",
    "    \"\"\"Esta funcao le os dados das funcoes leitora_numeros e leitora_operacao e salva em uma lista.\"\"\"\n",
    "    lista_numeros = leitora_numeros()\n",
    "    operacao = leitora_operacao()\n",
    "    return [lista_numeros, operacao]\n",
    "\n",
    "leitora()"
   ]
  },
  {
   "cell_type": "code",
   "execution_count": 29,
   "id": "ed77ad89-5b2a-41fe-9145-8a667eec2408",
   "metadata": {
    "tags": []
   },
   "outputs": [],
   "source": [
    "def leitora_operacao() -> str:\n",
    "    \"\"\"Esta funcao le a operação a ser realizada.\"\"\"\n",
    "    operacao = input(\"\"\"Digite a operação que deseja realizar. \n",
    "Pressione + para adição; \n",
    "- para subtração; \n",
    "* para multiplicação; \n",
    "/ para divisão\"\"\")\n",
    "    return operacao"
   ]
  },
  {
   "cell_type": "code",
   "execution_count": 26,
   "id": "7b659fd4-f7a8-43f9-8097-12af9f5c399e",
   "metadata": {
    "tags": []
   },
   "outputs": [
    {
     "name": "stdin",
     "output_type": "stream",
     "text": [
      "Digite o número 1 que deseja operar: 1\n",
      "Digite o número 2 que deseja operar: 2\n"
     ]
    },
    {
     "data": {
      "text/plain": [
       "[1.0, 2.0]"
      ]
     },
     "execution_count": 26,
     "metadata": {},
     "output_type": "execute_result"
    }
   ],
   "source": [
    "# Funcao que le dois numeros sem repetir a frase\n",
    "def leitora_numeros() -> list:\n",
    "    \"\"\"Esta funcao le dois numeros e os coloca em uma lista.\"\"\"\n",
    "    i = 0\n",
    "    numeros = []\n",
    "    while i < 2:\n",
    "        numeros.append(float(input(f'Digite o número {i+1} que deseja operar:')))\n",
    "        i += 1\n",
    "    return numeros"
   ]
  },
  {
   "cell_type": "markdown",
   "id": "d06ba1f5-7d1f-42ce-aade-6440021c1dd1",
   "metadata": {},
   "source": [
    "## Função de saída de dados"
   ]
  },
  {
   "cell_type": "code",
   "execution_count": 33,
   "id": "2928098d-e851-41b0-b595-6392bbdbfd43",
   "metadata": {
    "tags": []
   },
   "outputs": [
    {
     "name": "stdout",
     "output_type": "stream",
     "text": [
      "2\n"
     ]
    }
   ],
   "source": [
    "resultado = 2\n",
    "\n",
    "print(resultado)"
   ]
  },
  {
   "cell_type": "code",
   "execution_count": 34,
   "id": "df50263b-dd1e-404f-a872-1402609c2b87",
   "metadata": {
    "tags": []
   },
   "outputs": [
    {
     "name": "stdout",
     "output_type": "stream",
     "text": [
      "O resultado da operação é igual a 2.\n"
     ]
    }
   ],
   "source": [
    "print(f'O resultado da operação é igual a {resultado}.')"
   ]
  },
  {
   "cell_type": "code",
   "execution_count": 35,
   "id": "a60e3dbd-5008-48ee-a1f0-e6e681c4e139",
   "metadata": {
    "tags": []
   },
   "outputs": [
    {
     "name": "stdout",
     "output_type": "stream",
     "text": [
      "O resultado da operação é igual a 9.\n"
     ]
    }
   ],
   "source": [
    "def escritora(resultado):\n",
    "    print(f'O resultado da operação é igual a {resultado}.')\n",
    "\n",
    "resultado = 9\n",
    "escritora(resultado)"
   ]
  },
  {
   "cell_type": "code",
   "execution_count": null,
   "id": "4ad73452-6e44-438d-81d6-6323444b8eeb",
   "metadata": {},
   "outputs": [],
   "source": [
    "def escritora(resultado: float) -> None:\n",
    "    '''Esta funcao apresenta o resultado na tela.'''\n",
    "    print(f'O resultado da operação é igual a {resultado}.')"
   ]
  }
 ],
 "metadata": {
  "kernelspec": {
   "display_name": "Python 3 (ipykernel)",
   "language": "python",
   "name": "python3"
  },
  "language_info": {
   "codemirror_mode": {
    "name": "ipython",
    "version": 3
   },
   "file_extension": ".py",
   "mimetype": "text/x-python",
   "name": "python",
   "nbconvert_exporter": "python",
   "pygments_lexer": "ipython3",
   "version": "3.11.5"
  }
 },
 "nbformat": 4,
 "nbformat_minor": 5
}
