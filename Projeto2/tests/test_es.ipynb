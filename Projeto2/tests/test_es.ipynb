{
 "cells": [
  {
   "cell_type": "markdown",
   "id": "8086161f-7ede-49cb-9660-06abde9f4dde",
   "metadata": {},
   "source": [
    "# Módulo de Entrada"
   ]
  },
  {
   "cell_type": "code",
   "execution_count": 1,
   "id": "57a87986-348d-4a17-b606-edaa10be4fb2",
   "metadata": {
    "tags": []
   },
   "outputs": [
    {
     "name": "stdin",
     "output_type": "stream",
     "text": [
      "Qual o nome da empresa?  Itau Unibanco Holding S.A\n"
     ]
    }
   ],
   "source": [
    "emissor = input('Qual o nome da empresa? ')"
   ]
  },
  {
   "cell_type": "code",
   "execution_count": 2,
   "id": "4d882ded-6a50-48ef-977e-92053215dcec",
   "metadata": {
    "tags": []
   },
   "outputs": [
    {
     "data": {
      "text/plain": [
       "'Itau Unibanco Holding S.A'"
      ]
     },
     "execution_count": 2,
     "metadata": {},
     "output_type": "execute_result"
    }
   ],
   "source": [
    "emissor"
   ]
  },
  {
   "cell_type": "code",
   "execution_count": 24,
   "id": "3c1c93ba-d97b-4baf-8ebf-6885bf4fb8b2",
   "metadata": {
    "tags": []
   },
   "outputs": [
    {
     "name": "stdin",
     "output_type": "stream",
     "text": [
      "Qual o nome da empresa?  1\n"
     ]
    }
   ],
   "source": [
    "def leitora_emissor() -> str:\n",
    "    '''Esta funcao recebe o emissor da Ação'''\n",
    "    emissor = input('Qual o nome da empresa? ')\n",
    "    return emissor\n",
    "\n",
    "emissor = leitora_emissor()"
   ]
  },
  {
   "cell_type": "code",
   "execution_count": 5,
   "id": "09c79eb9-1611-45d1-8ba3-0677b6eb82d0",
   "metadata": {
    "tags": []
   },
   "outputs": [
    {
     "name": "stdout",
     "output_type": "stream",
     "text": [
      "\n"
     ]
    }
   ],
   "source": [
    "print(emissor)"
   ]
  },
  {
   "cell_type": "code",
   "execution_count": 6,
   "id": "fbcce460-5179-4400-bfe4-defd51029a46",
   "metadata": {
    "tags": []
   },
   "outputs": [
    {
     "name": "stdin",
     "output_type": "stream",
     "text": [
      "Qual o código na B3?  teste\n"
     ]
    }
   ],
   "source": [
    "codigo = input('Qual o código na B3? ')"
   ]
  },
  {
   "cell_type": "code",
   "execution_count": 7,
   "id": "20994f31-fe5e-451d-b0ed-3d156a7d735a",
   "metadata": {
    "tags": []
   },
   "outputs": [
    {
     "data": {
      "text/plain": [
       "'teste'"
      ]
     },
     "execution_count": 7,
     "metadata": {},
     "output_type": "execute_result"
    }
   ],
   "source": [
    "codigo"
   ]
  },
  {
   "cell_type": "code",
   "execution_count": 25,
   "id": "1dfbcaee-eff4-421b-83b7-4530a22463e2",
   "metadata": {
    "tags": []
   },
   "outputs": [
    {
     "name": "stdin",
     "output_type": "stream",
     "text": [
      "Qual o código na B3?  3\n"
     ]
    }
   ],
   "source": [
    "def leitora_codigo() -> str:\n",
    "    '''Esta funcao recebe o código da Ação'''\n",
    "    codigo = input('Qual o código na B3? ')\n",
    "    return codigo\n",
    "\n",
    "codigo = leitora_codigo()"
   ]
  },
  {
   "cell_type": "code",
   "execution_count": 9,
   "id": "84f884db-f6a1-4448-854f-711cbb207d17",
   "metadata": {
    "tags": []
   },
   "outputs": [
    {
     "data": {
      "text/plain": [
       "'21489'"
      ]
     },
     "execution_count": 9,
     "metadata": {},
     "output_type": "execute_result"
    }
   ],
   "source": [
    "codigo"
   ]
  },
  {
   "cell_type": "code",
   "execution_count": 26,
   "id": "d9b2c29e-1dab-4f55-868e-7fd8d941b0ab",
   "metadata": {
    "tags": []
   },
   "outputs": [
    {
     "name": "stdin",
     "output_type": "stream",
     "text": [
      "Qual o nome da empresa?  21\n",
      "Qual o código na B3?  a\n"
     ]
    }
   ],
   "source": [
    "def leitora() -> list:\n",
    "    emissor = leitora_emissor()\n",
    "    codigo = leitora_codigo()\n",
    "    return [emissor, codigo]\n",
    "\n",
    "empresa = leitora()"
   ]
  },
  {
   "cell_type": "code",
   "execution_count": 27,
   "id": "86094ff6-84fd-44db-9901-c994d783cea4",
   "metadata": {
    "tags": []
   },
   "outputs": [
    {
     "data": {
      "text/plain": [
       "['21', 'a']"
      ]
     },
     "execution_count": 27,
     "metadata": {},
     "output_type": "execute_result"
    }
   ],
   "source": [
    "empresa"
   ]
  },
  {
   "cell_type": "markdown",
   "id": "4c736bbf-0334-4d25-98db-277c656970d0",
   "metadata": {},
   "source": [
    "## Funcionalidade de saída de dados"
   ]
  },
  {
   "cell_type": "code",
   "execution_count": 14,
   "id": "2033f89d-9622-4b7e-9ebc-af7ba3a3ab25",
   "metadata": {
    "tags": []
   },
   "outputs": [
    {
     "name": "stdout",
     "output_type": "stream",
     "text": [
      "['teste', '213']\n"
     ]
    }
   ],
   "source": [
    "print(empresa)"
   ]
  },
  {
   "cell_type": "code",
   "execution_count": 15,
   "id": "b02829f5-4dd8-4b7c-99d6-2d8dfd54f6e0",
   "metadata": {
    "tags": []
   },
   "outputs": [
    {
     "name": "stdout",
     "output_type": "stream",
     "text": [
      "['teste', '213']\n"
     ]
    }
   ],
   "source": [
    "def impressora(resultado: str):\n",
    "    '''Esta funcao imprime o resultado'''\n",
    "    print(f'A ação criada foi {resultado}')\n",
    "\n",
    "impressora(empresa)"
   ]
  },
  {
   "cell_type": "code",
   "execution_count": null,
   "id": "c018d537-6279-4813-9482-6fe8804cb2a7",
   "metadata": {},
   "outputs": [],
   "source": [
    "def leitora():\n",
    "    '''Esta funcao le o emissor e código da Ação'''\n",
    "    emissor = leitora_emissor()\n",
    "    codigo = leitora_codigo()\n",
    "    return [emissor, codigo]"
   ]
  }
 ],
 "metadata": {
  "kernelspec": {
   "display_name": "Python 3 (ipykernel)",
   "language": "python",
   "name": "python3"
  },
  "language_info": {
   "codemirror_mode": {
    "name": "ipython",
    "version": 3
   },
   "file_extension": ".py",
   "mimetype": "text/x-python",
   "name": "python",
   "nbconvert_exporter": "python",
   "pygments_lexer": "ipython3",
   "version": "3.11.5"
  }
 },
 "nbformat": 4,
 "nbformat_minor": 5
}
