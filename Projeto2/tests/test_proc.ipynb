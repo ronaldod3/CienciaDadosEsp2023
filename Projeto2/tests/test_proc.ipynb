{
 "cells": [
  {
   "cell_type": "markdown",
   "id": "f60f7457-2913-4d23-ad08-3afb2712927d",
   "metadata": {},
   "source": [
    "# Módulo de instanciação de objetos da classe Ação"
   ]
  },
  {
   "cell_type": "code",
   "execution_count": 2,
   "id": "b12d8dab-cf23-47cd-ba2a-17e0c7a2f284",
   "metadata": {
    "tags": []
   },
   "outputs": [],
   "source": [
    "# Definindo a classe Ação\n",
    "\n",
    "class Acao:\n",
    "    def __init__(self, emissor, codigo_b3):\n",
    "        self.emissor = emissor\n",
    "        self.codigo_b3 = codigo_b3"
   ]
  },
  {
   "cell_type": "code",
   "execution_count": 3,
   "id": "d0296cdf-b7d0-4ef2-bf4d-68d4b04f9193",
   "metadata": {
    "tags": []
   },
   "outputs": [],
   "source": [
    "# Teste da classe ação, instanciando o objeto BBC3\n",
    "\n",
    "bbc3 = Acao('Bradesco', 'BBC3')"
   ]
  },
  {
   "cell_type": "code",
   "execution_count": 4,
   "id": "08b76e1b-4835-4702-9a36-c99af19089de",
   "metadata": {
    "tags": []
   },
   "outputs": [
    {
     "data": {
      "text/plain": [
       "<__main__.Acao at 0x1f8242c3bd0>"
      ]
     },
     "execution_count": 4,
     "metadata": {},
     "output_type": "execute_result"
    }
   ],
   "source": [
    "bbc3"
   ]
  },
  {
   "cell_type": "code",
   "execution_count": 26,
   "id": "006e5d11-50a9-4b3a-a668-b96c75e7bd3f",
   "metadata": {
    "tags": []
   },
   "outputs": [],
   "source": [
    "# Evoluindo classe\n",
    "\n",
    "class Acao:\n",
    "    def __init__(self, emissor, codigo_b3):\n",
    "        self.emissor = emissor\n",
    "        self.codigo_b3 = codigo_b3\n",
    "    def __str__(self):\n",
    "        return (f'Este é o objeto da classe Ação e o emissor da ação é {self.emissor} e o código é {self.codigo_b3}')\n",
    "    def negociar(self):\n",
    "        return ('Metodo negociar() nao implementado')\n",
    "        #NotImplemented"
   ]
  },
  {
   "cell_type": "code",
   "execution_count": 27,
   "id": "1c463306-931e-47f3-b7f9-9e7cf34da60e",
   "metadata": {
    "tags": []
   },
   "outputs": [],
   "source": [
    "bbc3 = Acao('Bradesco', 'BBC3')"
   ]
  },
  {
   "cell_type": "code",
   "execution_count": 28,
   "id": "e7f3e705-be8b-4a2d-aca9-c8764e05f36d",
   "metadata": {
    "tags": []
   },
   "outputs": [
    {
     "name": "stdout",
     "output_type": "stream",
     "text": [
      "Este é o objeto da classe Ação e o emissor da ação é Bradesco e o código é BBC3\n"
     ]
    }
   ],
   "source": [
    "print(bbc3)"
   ]
  },
  {
   "cell_type": "code",
   "execution_count": 29,
   "id": "96a7f44b-db0c-44dd-a5fe-f379252970c1",
   "metadata": {
    "tags": []
   },
   "outputs": [
    {
     "name": "stdout",
     "output_type": "stream",
     "text": [
      "Este é o objeto da classe Ação e o emissor da ação é Bradesco e o código é BBC3\n"
     ]
    },
    {
     "data": {
      "text/plain": [
       "'Metodo negociar() nao implementado'"
      ]
     },
     "execution_count": 29,
     "metadata": {},
     "output_type": "execute_result"
    }
   ],
   "source": [
    "#Teste\n",
    "\n",
    "bbc3 = Acao('Bradesco', 'BBC3')\n",
    "print(bbc3)\n",
    "bbc3.negociar()"
   ]
  },
  {
   "cell_type": "code",
   "execution_count": null,
   "id": "9d221f8a-f5da-413b-b354-19c918d4d4ed",
   "metadata": {},
   "outputs": [],
   "source": []
  }
 ],
 "metadata": {
  "kernelspec": {
   "display_name": "Python 3 (ipykernel)",
   "language": "python",
   "name": "python3"
  },
  "language_info": {
   "codemirror_mode": {
    "name": "ipython",
    "version": 3
   },
   "file_extension": ".py",
   "mimetype": "text/x-python",
   "name": "python",
   "nbconvert_exporter": "python",
   "pygments_lexer": "ipython3",
   "version": "3.11.5"
  }
 },
 "nbformat": 4,
 "nbformat_minor": 5
}
